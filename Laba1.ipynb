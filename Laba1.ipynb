{
 "cells": [
  {
   "cell_type": "code",
   "execution_count": 1,
   "metadata": {},
   "outputs": [
    {
     "name": "stdout",
     "output_type": "stream",
     "text": [
      "Введите число: 12.50\n",
      "12 руб. 50 коп.\n"
     ]
    }
   ],
   "source": [
    "#1\n",
    "#Напишите скрипт, который преобразует введенное с клавиатуры вещественное число в денежный формат. Например, число 12,5 должно\n",
    "#быть преобразовано к виду «12 руб. 50 коп.». В случае ввода отрицательного числа выдайте сообщение «Некорректный формат!»\n",
    "#путем обработки исключения в коде.\n",
    "\n",
    "def convert_to_money(num):\n",
    "    try:\n",
    "        if num>=0: print(int(num), \"руб.\", round(num%1*100), \"коп.\") \n",
    "        else: raise Exception\n",
    "    except Exception:\n",
    "      print(\"Некоректный формат\")\n",
    "\n",
    "convert_to_money(float(input(\"Введите число: \")))\n"
   ]
  },
  {
   "cell_type": "code",
   "execution_count": 2,
   "metadata": {},
   "outputs": [
    {
     "name": "stdout",
     "output_type": "stream",
     "text": [
      "True\n"
     ]
    }
   ],
   "source": [
    "#2\n",
    "#Написать скрипт, который выводит на экран «True», если элементы программно задаваемого списка представляют собой возрастающую\n",
    "#последовательность, иначе – «False».\n",
    "\n",
    "def check_increase(list):\n",
    "    print(False not in (list[i] < list[i+1] for i in range(len(list)-1)))\n",
    "\n",
    "check_increase([10, 12, 35, 41, 56])\n"
   ]
  },
  {
   "cell_type": "code",
   "execution_count": 3,
   "metadata": {},
   "outputs": [
    {
     "ename": "KeyboardInterrupt",
     "evalue": "Interrupted by user",
     "output_type": "error",
     "traceback": [
      "\u001b[1;31m---------------------------------------------------------------------------\u001b[0m",
      "\u001b[1;31mKeyboardInterrupt\u001b[0m                         Traceback (most recent call last)",
      "\u001b[1;32m<ipython-input-3-17387eaa10ba>\u001b[0m in \u001b[0;36m<module>\u001b[1;34m\u001b[0m\n\u001b[0;32m      6\u001b[0m     \u001b[0mprint\u001b[0m\u001b[1;33m(\u001b[0m\u001b[0mnums\u001b[0m\u001b[1;33m[\u001b[0m\u001b[1;33m:\u001b[0m\u001b[1;36m4\u001b[0m\u001b[1;33m]\u001b[0m\u001b[1;33m,\u001b[0m \u001b[1;34m\"**** ****\"\u001b[0m\u001b[1;33m,\u001b[0m \u001b[0mnums\u001b[0m\u001b[1;33m[\u001b[0m\u001b[1;36m12\u001b[0m\u001b[1;33m:\u001b[0m\u001b[1;33m]\u001b[0m\u001b[1;33m)\u001b[0m \u001b[1;32mif\u001b[0m \u001b[0mlen\u001b[0m\u001b[1;33m(\u001b[0m\u001b[0mnums\u001b[0m\u001b[1;33m)\u001b[0m\u001b[1;33m==\u001b[0m\u001b[1;36m16\u001b[0m \u001b[1;32melse\u001b[0m \u001b[0mprint\u001b[0m\u001b[1;33m(\u001b[0m\u001b[1;34m\"Должно быть 16 цифр\"\u001b[0m\u001b[1;33m)\u001b[0m\u001b[1;33m\u001b[0m\u001b[1;33m\u001b[0m\u001b[0m\n\u001b[0;32m      7\u001b[0m \u001b[1;33m\u001b[0m\u001b[0m\n\u001b[1;32m----> 8\u001b[1;33m \u001b[0mhide_numbers\u001b[0m\u001b[1;33m(\u001b[0m\u001b[0minput\u001b[0m\u001b[1;33m(\u001b[0m\u001b[1;34m\"Введите номер дебетовой карты(без пробелов): \"\u001b[0m\u001b[1;33m)\u001b[0m\u001b[1;33m)\u001b[0m \u001b[1;31m#\"5123456823981212\"\u001b[0m\u001b[1;33m\u001b[0m\u001b[1;33m\u001b[0m\u001b[0m\n\u001b[0m",
      "\u001b[1;32m~\\anaconda3\\lib\\site-packages\\ipykernel\\kernelbase.py\u001b[0m in \u001b[0;36mraw_input\u001b[1;34m(self, prompt)\u001b[0m\n\u001b[0;32m    858\u001b[0m                 \u001b[1;34m\"raw_input was called, but this frontend does not support input requests.\"\u001b[0m\u001b[1;33m\u001b[0m\u001b[1;33m\u001b[0m\u001b[0m\n\u001b[0;32m    859\u001b[0m             )\n\u001b[1;32m--> 860\u001b[1;33m         return self._input_request(str(prompt),\n\u001b[0m\u001b[0;32m    861\u001b[0m             \u001b[0mself\u001b[0m\u001b[1;33m.\u001b[0m\u001b[0m_parent_ident\u001b[0m\u001b[1;33m,\u001b[0m\u001b[1;33m\u001b[0m\u001b[1;33m\u001b[0m\u001b[0m\n\u001b[0;32m    862\u001b[0m             \u001b[0mself\u001b[0m\u001b[1;33m.\u001b[0m\u001b[0m_parent_header\u001b[0m\u001b[1;33m,\u001b[0m\u001b[1;33m\u001b[0m\u001b[1;33m\u001b[0m\u001b[0m\n",
      "\u001b[1;32m~\\anaconda3\\lib\\site-packages\\ipykernel\\kernelbase.py\u001b[0m in \u001b[0;36m_input_request\u001b[1;34m(self, prompt, ident, parent, password)\u001b[0m\n\u001b[0;32m    902\u001b[0m             \u001b[1;32mexcept\u001b[0m \u001b[0mKeyboardInterrupt\u001b[0m\u001b[1;33m:\u001b[0m\u001b[1;33m\u001b[0m\u001b[1;33m\u001b[0m\u001b[0m\n\u001b[0;32m    903\u001b[0m                 \u001b[1;31m# re-raise KeyboardInterrupt, to truncate traceback\u001b[0m\u001b[1;33m\u001b[0m\u001b[1;33m\u001b[0m\u001b[1;33m\u001b[0m\u001b[0m\n\u001b[1;32m--> 904\u001b[1;33m                 \u001b[1;32mraise\u001b[0m \u001b[0mKeyboardInterrupt\u001b[0m\u001b[1;33m(\u001b[0m\u001b[1;34m\"Interrupted by user\"\u001b[0m\u001b[1;33m)\u001b[0m \u001b[1;32mfrom\u001b[0m \u001b[1;32mNone\u001b[0m\u001b[1;33m\u001b[0m\u001b[1;33m\u001b[0m\u001b[0m\n\u001b[0m\u001b[0;32m    905\u001b[0m             \u001b[1;32mexcept\u001b[0m \u001b[0mException\u001b[0m \u001b[1;32mas\u001b[0m \u001b[0me\u001b[0m\u001b[1;33m:\u001b[0m\u001b[1;33m\u001b[0m\u001b[1;33m\u001b[0m\u001b[0m\n\u001b[0;32m    906\u001b[0m                 \u001b[0mself\u001b[0m\u001b[1;33m.\u001b[0m\u001b[0mlog\u001b[0m\u001b[1;33m.\u001b[0m\u001b[0mwarning\u001b[0m\u001b[1;33m(\u001b[0m\u001b[1;34m\"Invalid Message:\"\u001b[0m\u001b[1;33m,\u001b[0m \u001b[0mexc_info\u001b[0m\u001b[1;33m=\u001b[0m\u001b[1;32mTrue\u001b[0m\u001b[1;33m)\u001b[0m\u001b[1;33m\u001b[0m\u001b[1;33m\u001b[0m\u001b[0m\n",
      "\u001b[1;31mKeyboardInterrupt\u001b[0m: Interrupted by user"
     ]
    }
   ],
   "source": [
    "#3\n",
    "#Напишите скрипт, который позволяет ввести с клавиатуры номер дебетовой карты (16 цифр) и выводит номер в скрытом виде: первые и\n",
    "#последние 4 цифры отображены нормально, а между ними – символы «*» (например, 5123 **** **** 1212).\n",
    "\n",
    "def hide_numbers(nums):\n",
    "    print(nums[:4], \"**** ****\", nums[12:]) if len(nums)==16 else print(\"Должно быть 16 цифр\")\n",
    "\n",
    "hide_numbers(input(\"Введите номер дебетовой карты(без пробелов): \")) #\"5123456823981212\"\n"
   ]
  },
  {
   "cell_type": "code",
   "execution_count": null,
   "metadata": {},
   "outputs": [],
   "source": [
    "#4\n",
    "#Напишите скрипт, который разделяет введенный с клавиатуры текст на слова и выводит сначала те слова, длина которых превосходит 7\n",
    "#символов, затем слова размером от 4 до 7 символов, затем – все остальные.\n",
    "\n",
    "def output_word(words):\n",
    "   words.sort(key=len, reverse=True)\n",
    "   print(\" \".join(words))\n",
    "\n",
    "output_word(input(\"Введите предложение: \").split())"
   ]
  },
  {
   "cell_type": "code",
   "execution_count": null,
   "metadata": {},
   "outputs": [],
   "source": [
    "#5\n",
    "#Напишите скрипт, который позволяет ввести с клавиатуры текст предложения и сформировать новую строку на основе исходной, в\n",
    "#которой все слова, начинающиеся с большой буквы, приведены к верхнему регистру. Слова могут разделяться запятыми или пробелами.\n",
    "#Например, если пользователь введет строку «город Донецк, река Кальмиус», результирующая строка должна выглядеть так: «город\n",
    "#ДОНЕЦК, река КАЛЬМИУС».\n",
    "\n",
    "def up_word(words):\n",
    "    print(\" \".join(i.upper() if i[0].isupper() else i for i in words))\n",
    "\n",
    "up_word(input(\"Введите предложение: \").split())"
   ]
  },
  {
   "cell_type": "code",
   "execution_count": 9,
   "metadata": {},
   "outputs": [
    {
     "name": "stdout",
     "output_type": "stream",
     "text": [
      "Введите предложение: Напишите программу, позволяющую ввести с клавиатуры текст предложения \n",
      "Н ш г , з щ ы д ж н\n"
     ]
    }
   ],
   "source": [
    "#6\n",
    "#Напишите программу, позволяющую ввести с клавиатуры текст предложения и вывести на консоль все символы, которые входят в этот\n",
    "#текст ровно по одному разу.\n",
    "\n",
    "def check_frequency(sentence):\n",
    "    print(\" \".join(i for i in sentence if sentence.count(i)==1))\n",
    "\n",
    "check_frequency(input(\"Введите предложение: \"))"
   ]
  },
  {
   "cell_type": "code",
   "execution_count": 10,
   "metadata": {
    "scrolled": true
   },
   "outputs": [
    {
     "name": "stdout",
     "output_type": "stream",
     "text": [
      "http://www.tttt.com\n",
      "nnn.com\n",
      "http://www.bbbbb.com\n",
      "http://www.hht.com\n",
      "http://www.tllt.com\n"
     ]
    }
   ],
   "source": [
    "#7\n",
    "#Напишите скрипт, который обрабатывает список строк-адресов следующим образом: сначала определяет, начинается ли каждая строка\n",
    "#в списке с префикса «www». Если условие выполняется, то скрипт должен вставить в начало этой строки префикс «http://», а затем\n",
    "#проверить, что строка заканчивается на «.com». Если у строки другое окончание, то скрипт должен вставить в конец подстроку «.com». В\n",
    "#итоге скрипт должен вывести на консоль новый список с измененными адресами. Используйте генераторы списков.\n",
    "\n",
    "def change_address(list):\n",
    "\n",
    "    output_list = [i + \".com\" if not i.endswith('.com') else i for i in [\"http://\" + i if i.startswith('www.') else i for i in list]]\n",
    "    print(\"\\n\".join(output_list))\n",
    "\n",
    "change_address([\"www.tttt.com\",\"nnn.com\",\"www.bbbbb\",\"www.hht\", \"www.tllt.com\"])\n",
    "\n"
   ]
  },
  {
   "cell_type": "code",
   "execution_count": 13,
   "metadata": {},
   "outputs": [
    {
     "name": "stdout",
     "output_type": "stream",
     "text": [
      "n is 17, the closest power of 2 (upper bound) is 32\n",
      "[29, 51, 82, 91, 60, 88, 61, 9, 32, 87, 33, 46, 7, 87, 63, 87, 14, 0, 0, 0, 0, 0, 0, 0, 0, 0, 0, 0, 0, 0, 0, 0]\n"
     ]
    }
   ],
   "source": [
    "#8\n",
    "#Напишите скрипт, генерирующий случайным образом число n в диапазоне от 1 до 10000. Скрипт должен создать массив из n целых\n",
    "#чисел, также сгенерированных случайным образом, и дополнить массив нулями до размера, равного ближайшей сверху степени двойки.\n",
    "#Например, если в массиве было n=100 элементов, то массив нужно дополнить 28 нулями, чтобы в итоге был массив из 28 = 128 элементов\n",
    "#(ближайшая степень двойки к 100 – это число 128, к 35 – это 64 и т.д.).\n",
    "\n",
    "import math\n",
    "import random\n",
    "\n",
    "MIN = 0\n",
    "MAX = 100\n",
    "\n",
    "n = random.randint(MIN, MAX)\n",
    "closest_power_of_two = int(math.pow(2, math.ceil(math.log(n, 2)))) if n!=0 else int(math.pow(2, 0))\n",
    "\n",
    "integers = list()\n",
    "print(f\"n is {n}, the closest power of 2 (upper bound) is {closest_power_of_two}\")\n",
    "for i in range(closest_power_of_two):\n",
    "    integers.append(random.randint(MIN, MAX) if  i<n else 0)\n",
    "\n",
    "print(integers)"
   ]
  },
  {
   "cell_type": "code",
   "execution_count": 14,
   "metadata": {},
   "outputs": [
    {
     "name": "stdout",
     "output_type": "stream",
     "text": [
      "Введите сумму: 5370\n",
      "5*1000 0*500 3*100 1*50 2*10 "
     ]
    }
   ],
   "source": [
    "#9\n",
    "#Напишите программу, имитирующую работу банкомата. Выберите структуру данных для хранения купюр разного достоинства в заданном\n",
    "#количестве. При вводе пользователем запрашиваемой суммы денег, скрипт должен вывести на консоль количество купюр подходящего\n",
    "#достоинства. Если имеющихся денег не хватает, то необходимо напечатать сообщение «Операция не может быть выполнена!».\n",
    "#Например, при сумме 5370 рублей на консоль должно быть выведено «5*1000 + 3*100 + 1*50 + 2*10».\n",
    "\n",
    "def imitation_bank(money):\n",
    "\n",
    "    bank_money = {1000: 7, 500: 4, 100: 8, 50: 4, 10: 2}\n",
    "    output_money = []\n",
    "\n",
    "    for value, quantity in bank_money.items():\n",
    "        if money < value * quantity and quantity != 0:\n",
    "            quantity = money//value\n",
    "            \n",
    "        output_money.append((quantity, value))\n",
    "        money -= value * quantity\n",
    "        bank_money[value] -= quantity\n",
    "     \n",
    "    if money!=0:\n",
    "        print(\"Операция не может быть выполнена!\")\n",
    "\n",
    "    [print(f\"{i}*{j}\", end=\" \") for i, j in output_money if money == 0]\n",
    "    \n",
    "\n",
    "imitation_bank(int(input(\"Введите сумму: \")))"
   ]
  },
  {
   "cell_type": "code",
   "execution_count": 15,
   "metadata": {},
   "outputs": [
    {
     "name": "stdout",
     "output_type": "stream",
     "text": [
      "Введите пароль: 123qwe123qwe\n",
      "Плохой пароль!\n"
     ]
    }
   ],
   "source": [
    "#10\n",
    "#Напишите скрипт, позволяющий определить надежность вводимого пользователем пароля. Это задание является творческим: алгоритм\n",
    "#определения надежности разработайте самостоятельно.\n",
    "def validation(password):\n",
    "    if len(password)>9 and not password.isdigit() and password.startswith('!'):\n",
    "        print(\"Пароль надёжный\")\n",
    "    else:\n",
    "        print(\"Плохой пароль!\")\n",
    "\n",
    "\n",
    "validation(input(\"Введите пароль: \"))\n"
   ]
  },
  {
   "cell_type": "code",
   "execution_count": 18,
   "metadata": {},
   "outputs": [
    {
     "name": "stdout",
     "output_type": "stream",
     "text": [
      "1.1\n",
      "1.2\n",
      "1.3\n",
      "1.4\n",
      "1.5\n",
      "1.6\n",
      "1.7\n",
      "1.8\n",
      "1.9\n",
      "2.0\n",
      "2.1\n",
      "2.2\n",
      "2.3\n",
      "2.4\n",
      "2.5\n",
      "2.6\n",
      "2.7\n",
      "2.8\n",
      "2.9\n",
      "3.0\n",
      "3.1\n",
      "3.2\n",
      "3.3\n",
      "3.4\n",
      "3.5\n",
      "3.6\n",
      "3.7\n",
      "3.8\n",
      "3.9\n",
      "4.0\n",
      "4.1\n",
      "4.2\n",
      "4.3\n",
      "4.4\n",
      "4.5\n",
      "4.6\n",
      "4.7\n",
      "4.8\n",
      "4.9\n",
      "5.0\n"
     ]
    }
   ],
   "source": [
    "#11\n",
    "#Напишите генератор frange как аналог range() с дробным шагом.\n",
    "\n",
    "def frand_zad11(begin, end, n):\n",
    "    while begin < end and begin + n < end:\n",
    "        begin += n\n",
    "        yield round(begin, 14)\n",
    "\n",
    "for i in frand_zad11(1, 5, 0.1):\n",
    "    print(i)"
   ]
  },
  {
   "cell_type": "code",
   "execution_count": null,
   "metadata": {},
   "outputs": [],
   "source": [
    "#12\n",
    "#Напишите генератор get_frames(), который производит «оконную декомпозицию» сигнала: на основе входного списка генерирует набор\n",
    "#списков – перекрывающихся отдельных фрагментов сигнала размера size со степенью перекрытия overlap. \n",
    "\n",
    "def zad_12(signal, size, overlap):\n",
    "    output = list()\n",
    "\n",
    "    if 0 > overlap >= 1: \n",
    "        raise ValueError(\"Overlap cant be > 1 or < 0 i think\")\n",
    "\n",
    "    sig_len = len(signal)\n",
    "\n",
    "    if sig_len<=size: \n",
    "        return signal\n",
    "\n",
    "    overlapping_size = overlap * size\n",
    "\n",
    "    n_of_elems = int((sig_len / overlapping_size) - 1)\n",
    "\n",
    "    for i in range(n_of_elems):\n",
    "        if i == 0:\n",
    "            output.append(signal[0:size+1])\n",
    "        else:\n",
    "            output.append(signal[(size - overlapping_size) * i:(size + overlapping_size) * i+1])\n",
    "    return output\n",
    "\n",
    "signal = input()\n",
    "for frame in zad_12(signal, size = 1024, overlap = 0.5):\n",
    "    print(frame)"
   ]
  },
  {
   "cell_type": "code",
   "execution_count": null,
   "metadata": {},
   "outputs": [],
   "source": [
    "#Напишите собственную версию генератора enumerate под названием extra_enumerate. В переменной cum хранится накопленная сумма на момент текущей\n",
    "#итерации, в переменной frac – доля накопленной суммы от общей суммы на момент текущей итерации. Например, для списка x=[1,3,4,2]\n",
    "#вывод будет таким: (1, 1, 0.1) (3, 4, 0.4) (4, 8, 0.8) (2, 10, 1).\n",
    "def zad_13(signal, size, overlap):\n",
    "    if 0 > overlap >= 1:\n",
    "         raise ValueError(\"Overlap cant be > 1 or < 0 i think\")\n",
    "\n",
    "    sig_len = len(signal)\n",
    "    if sig_len <= size:\n",
    "        return signal\n",
    "        \n",
    "    overlapping_size = overlap * size\n",
    "    n_of_elems = int((sig_len / overlapping_size) - 1)\n",
    "    for i in range(n_of_elems):\n",
    "        if i == 0:\n",
    "            yield signal[0:size + 1]\n",
    "        else:\n",
    "            yield signal[(size-overlapping_size)*i:(size+overlapping_size)*i+1]\n",
    "\n",
    "\n",
    "for item in zad_13([1, 0, 1, 0, 0], 1, 1):\n",
    "    print(item)\n",
    "    \n",
    "    "
   ]
  },
  {
   "cell_type": "code",
   "execution_count": 3,
   "metadata": {},
   "outputs": [
    {
     "name": "stdout",
     "output_type": "stream",
     "text": [
      "qqqqqqqqqqqqq \n",
      "\n"
     ]
    }
   ],
   "source": [
    "#14\n",
    "#Напишите декоратор non_empty, который дополнительно проверяет списковый результат любой функции: если в нем содержатся пустые\n",
    "#строки или значение None, то они удаляются. Пример кода:\n",
    "#@non_empty\n",
    "#def get_pages():\n",
    " #return ['chapter1', '', 'contents', '', 'line1'].\n",
    "import pdb;\n",
    "\n",
    "def zad14_non_empty(text):\n",
    "    it = 0\n",
    "    rez = \"\"\n",
    "    temp = \"\"\n",
    "    for i in text:\n",
    "        if (i == \",\" or i == \".\"):\n",
    "            #pdb.set_trace()\n",
    "            temp = temp.strip()\n",
    "            if (len(temp) == 0):\n",
    "                print(\"Вырезано пустое значение\")\n",
    "            else:\n",
    "                rez = rez + temp + \".\"\n",
    "                temp = \"\"\n",
    "        #pdb.set_trace()\n",
    "        else:\n",
    "            temp = temp + i\n",
    "    return rez\n",
    "\n",
    "text = input()\n",
    "print(zad14_non_empty(text))\n"
   ]
  },
  {
   "cell_type": "code",
   "execution_count": 1,
   "metadata": {},
   "outputs": [
    {
     "name": "stdout",
     "output_type": "stream",
     "text": [
      "-13.58\n",
      "1.0\n",
      "1.03\n",
      "1.06\n",
      "1.09\n",
      "1.12\n",
      "1.15\n",
      "1.18\n",
      "1.21\n",
      "1.24\n",
      "1.27\n",
      "1.3\n",
      "1.33\n",
      "1.36\n",
      "1.39\n"
     ]
    }
   ],
   "source": [
    "#15\n",
    "#Напишите параметризированный декоратор pre_process, который осуществляет предварительную обработку (цифровую фильтрацию)\n",
    "#списка по алгоритму: s[i] = s[i]–a∙s[i–1]. Параметр а можно задать в коде (по умолчанию равен 0.97).\n",
    "def pre_process(a):\n",
    "    def decorator(fn):\n",
    "        def wrapped(list):\n",
    "             return  fn([round(list[i]-a*list[i-1],2) for i in range(len(list))])\n",
    "        return wrapped\n",
    "    return decorator\n",
    "\n",
    "@pre_process(0.97)\n",
    "def plot_signal(list):\n",
    "    [print(sample) for sample in list]\n",
    "\n",
    "plot_signal([i for i in range(15)])\n"
   ]
  },
  {
   "cell_type": "code",
   "execution_count": 6,
   "metadata": {},
   "outputs": [
    {
     "name": "stdout",
     "output_type": "stream",
     "text": [
      "(['Volodi', 'Lochman', 'Garet', 'Joi'], ['Onli', 'Misha', 'Loin', 'Onli'], ['Lochman', 'For', 'Loin', 'Roma'], ['Sem', 'Iloi', 'Lir', 'Andrey'])\n",
      "14/0/2020\n",
      "28/0/2020\n",
      "14/1/2020\n",
      "28/1/2020\n",
      "14/2/2020\n",
      "28/2/2020\n",
      "14/3/2020\n",
      "28/3/2020\n",
      "14/4/2020\n",
      "28/4/2020\n",
      "14/5/2020\n",
      "28/5/2020\n",
      "14/6/2020\n",
      "28/6/2020\n",
      "14/7/2020\n",
      "28/7/2020\n",
      "14/8/2020\n",
      "28/8/2020\n",
      "14/9/2020\n",
      "28/9/2020\n",
      "14/10/2020\n",
      "28/10/2020\n",
      "14/11/2020\n",
      "28/11/2020\n",
      "14/0/2021\n",
      "28/0/2021\n",
      "14/1/2021\n",
      "28/1/2021\n",
      "14/2/2021\n",
      "28/2/2021\n",
      "14/3/2021\n",
      "28/3/2021\n",
      "14/4/2021\n",
      "28/4/2021\n",
      "14/5/2021\n",
      "28/5/2021\n",
      "14/6/2021\n",
      "28/6/2021\n",
      "14/7/2021\n",
      "28/7/2021\n",
      "14/8/2021\n",
      "28/8/2021\n",
      "14/9/2021\n",
      "28/9/2021\n",
      "14/10/2021\n",
      "28/10/2021\n",
      "14/11/2021\n",
      "28/11/2021\n",
      "14/0/2022\n",
      "28/0/2022\n",
      "14/1/2022\n",
      "28/1/2022\n",
      "14/2/2022\n",
      "28/2/2022\n",
      "14/3/2022\n",
      "28/3/2022\n",
      "14/4/2022\n",
      "28/4/2022\n",
      "14/5/2022\n",
      "28/5/2022\n",
      "14/6/2022\n",
      "28/6/2022\n",
      "14/7/2022\n",
      "28/7/2022\n",
      "14/8/2022\n",
      "28/8/2022\n",
      "14/9/2022\n",
      "28/9/2022\n",
      "14/10/2022\n",
      "28/10/2022\n",
      "14/11/2022\n",
      "28/11/2022\n",
      "14/0/2023\n",
      "28/0/2023\n",
      "14/1/2023\n",
      "28/1/2023\n",
      "14/2/2023\n",
      "28/2/2023\n",
      "14/3/2023\n",
      "28/3/2023\n",
      "14/4/2023\n",
      "28/4/2023\n",
      "14/5/2023\n",
      "28/5/2023\n",
      "14/6/2023\n",
      "28/6/2023\n",
      "14/7/2023\n",
      "28/7/2023\n",
      "14/8/2023\n",
      "28/8/2023\n",
      "14/9/2023\n",
      "28/9/2023\n",
      "14/10/2023\n",
      "28/10/2023\n",
      "14/11/2023\n",
      "28/11/2023\n",
      "14/0/2024\n",
      "28/0/2024\n",
      "14/1/2024\n",
      "28/1/2024\n",
      "14/2/2024\n",
      "28/2/2024\n",
      "14/3/2024\n",
      "28/3/2024\n",
      "14/4/2024\n",
      "28/4/2024\n",
      "14/5/2024\n",
      "28/5/2024\n",
      "14/6/2024\n",
      "28/6/2024\n",
      "14/7/2024\n",
      "28/7/2024\n",
      "14/8/2024\n",
      "28/8/2024\n",
      "14/9/2024\n",
      "28/9/2024\n",
      "14/10/2024\n",
      "28/10/2024\n",
      "14/11/2024\n",
      "28/11/2024\n",
      "None\n"
     ]
    }
   ],
   "source": [
    "#16\n",
    "#Напишите скрипт, который на основе списка из 16 названий футбольных команд случайным образом формирует 4 группы по 4\n",
    "#команды, а также выводит на консоль календарь всех игр (игры должны проходить по средам, раз в 2 недели, начиная с 15 сентября\n",
    "#текущего года). Даты игр необходимо выводить в формате «15/09/2021, 22:45».\n",
    "\n",
    "import random;\n",
    "import pdb;\n",
    "import datetime;\n",
    "def zad_16_1(Comand):\n",
    "    Comand1 = []\n",
    "    Comand2 = []\n",
    "    Comand3 = []\n",
    "    Comand4 = []\n",
    "    flag = 0\n",
    "    for i in range(0,16):\n",
    "        size = random.randint(0, 15)\n",
    "        if (len(Comand1) != 4 and flag == 0):\n",
    "            Comand1.append(Comand[size])\n",
    "            flag = 1\n",
    "        if (len(Comand2) != 4 and flag == 0):\n",
    "            Comand2.append(Comand[size])\n",
    "            flag = 1\n",
    "        if (len(Comand3) != 4 and flag == 0):\n",
    "            Comand3.append(Comand[size])\n",
    "            flag = 1\n",
    "        if (len(Comand4) != 4 and flag == 0):\n",
    "            Comand4.append(Comand[size])\n",
    "            flag = 1\n",
    "        flag = 0\n",
    "    return Comand1,Comand2,Comand3,Comand4\n",
    "\n",
    "def zad_16_2():\n",
    "    #\"14.09.2021\"\n",
    "    startday = 14\n",
    "    startmath = 9\n",
    "    starteyar = 2021\n",
    "    for i in range(0,5):\n",
    "        for j in range(0,12):\n",
    "            for z in range(0,30):\n",
    "                if (z == 14 or z == 28):\n",
    "                    print(str(z) + \"/\" + str(j) + \"/202\" + str(i))\n",
    "    \n",
    "\n",
    "text = ['Andrey','Dima','Onli','For','Garet','Loin','Misha','Roma','Joi','Sem','Ivan','Iloi','Volodi','Lochman','Lir','Tekmua']\n",
    "print(zad_16_1(text))\n",
    "print(zad_16_2())\n",
    "                \n",
    "    "
   ]
  },
  {
   "cell_type": "code",
   "execution_count": null,
   "metadata": {},
   "outputs": [],
   "source": []
  },
  {
   "cell_type": "code",
   "execution_count": null,
   "metadata": {},
   "outputs": [],
   "source": []
  },
  {
   "cell_type": "code",
   "execution_count": null,
   "metadata": {},
   "outputs": [],
   "source": []
  }
 ],
 "metadata": {
  "kernelspec": {
   "display_name": "Python 3",
   "language": "python",
   "name": "python3"
  },
  "language_info": {
   "codemirror_mode": {
    "name": "ipython",
    "version": 3
   },
   "file_extension": ".py",
   "mimetype": "text/x-python",
   "name": "python",
   "nbconvert_exporter": "python",
   "pygments_lexer": "ipython3",
   "version": "3.8.5"
  }
 },
 "nbformat": 4,
 "nbformat_minor": 4
}
