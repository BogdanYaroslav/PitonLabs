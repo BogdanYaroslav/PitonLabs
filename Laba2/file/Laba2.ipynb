{
 "cells": [
  {
   "cell_type": "code",
   "execution_count": 7,
   "metadata": {},
   "outputs": [
    {
     "name": "stdout",
     "output_type": "stream",
     "text": [
      "E  ---  47\n",
      "O  ---  30\n",
      "N  ---  26\n",
      "I  ---  26\n",
      "D  ---  23\n",
      "R  ---  22\n",
      "A  ---  20\n",
      "T  ---  17\n",
      "L  ---  15\n",
      "M  ---  13\n",
      "C  ---  13\n",
      "P  ---  9\n",
      "H  ---  9\n",
      "B  ---  8\n",
      "V  ---  7\n",
      "U  ---  7\n",
      "F  ---  6\n",
      "Y  ---  5\n",
      "W  ---  4\n",
      "G  ---  3\n",
      "K  ---  2\n",
      "S  ---  1\n",
      "X  ---  1\n"
     ]
    }
   ],
   "source": [
    "#1 \n",
    "#Напишите скрипт, который читает текстовый файл и выводит символы в порядке убывания частоты встречаемости в тексте. Регистр символа\n",
    "#не имеет значения. Программа должна учитывать только буквенные символы (символы пунктуации, цифры и служебные символы слудет игнорировать).\n",
    "\n",
    "def count_letters():\n",
    "    file = open('task1.txt')\n",
    "    input_text = file.read()\n",
    "    file.close()\n",
    "    dictionary = {i.upper(): input_text.count(i) for i in input_text if i.isalpha()}\n",
    "    for value in sorted(dictionary.keys(), key=dictionary.get, reverse=True):\n",
    "        print(value, \" --- \", dictionary[value])\n",
    "\n",
    "        \n",
    "count_letters()"
   ]
  },
  {
   "cell_type": "code",
   "execution_count": 8,
   "metadata": {},
   "outputs": [
    {
     "name": "stdout",
     "output_type": "stream",
     "text": [
      "temp1.docx\n",
      "temp1.accdb\n",
      "temp3.docx\n"
     ]
    }
   ],
   "source": [
    "\n",
    "#2\n",
    "#Напишите скрипт, позволяющий искать в заданной директории и в ее подпапках файлы-дубликаты на основе сравнения контрольных сумм (MD5). \n",
    "#Файлы могут иметь одинаковое содержимое, но отличаться именами. Скрипт должен вывести группы имен обнаруженных файлов дубликатов. \n",
    "import os;\n",
    "import pdb;\n",
    "def getfile (oldpath):\n",
    "    os.chdir(oldpath)\n",
    "    dir1 = os.listdir()\n",
    "    for temp in dir1:\n",
    "        #print(temp)\n",
    "        pathmy = os.path.abspath(temp)\n",
    "        #print('=========',pathmy)\n",
    "        if os.path.isfile(pathmy):\n",
    "            #print('-----------')\n",
    "            filemass.append(temp)\n",
    "            mass.append(hash(temp))\n",
    "        if os.path.isdir(pathmy):\n",
    "            #print('+++++++++++')\n",
    "            oldpath = os.getcwd()\n",
    "            getfile(pathmy)\n",
    "    os.chdir(\"..\")\n",
    "    return\n",
    "\n",
    "oldpath = r'C:\\Users\\Zet\\Desktop\\Laba2\\folder'\n",
    "filemass = []\n",
    "mass = []\n",
    "getfile(oldpath)\n",
    "rez = zip(filemass,mass)\n",
    "rez = list(rez)\n",
    "for temp in rez:\n",
    "    if(mass.count(temp[1]) == 1):\n",
    "        print(temp[0])\n",
    "    \n",
    "        \n"
   ]
  },
  {
   "cell_type": "code",
   "execution_count": 14,
   "metadata": {
    "scrolled": true
   },
   "outputs": [
    {
     "name": "stdout",
     "output_type": "stream",
     "text": [
      "['bad liar.mp3', 'Believer.mp3', 'Machine.mp3']\n",
      "bad liar.mp3\n",
      "01. Bad Liar [4:20]\n",
      "\n",
      "Believer.mp3\n",
      "01. Bad Liar [4:20]\n",
      "\n",
      "Machine.mp3\n",
      "01. Bad Liar [4:20]\n",
      "\n",
      "bad liar.mp3\n",
      "02. Believer [3:24]\n",
      "\n",
      "Believer.mp3\n",
      "02. Believer [3:24]\n",
      "\n",
      "Machine.mp3\n",
      "02. Believer [3:24]\n",
      "\n",
      "bad liar.mp3\n",
      "03. Machine [3:01]\n",
      "\n",
      "Believer.mp3\n",
      "03. Machine [3:01]\n",
      "\n",
      "Machine.mp3\n",
      "03. Machine [3:01]\n",
      "\n"
     ]
    }
   ],
   "source": [
    "#3\n",
    "#Задан путь к директории с музыкальными файлами (в названии которых нет номеров, а только названия песен) и текстовый файл,\n",
    "#хранящий полный список песен с номерами и названиями в виде строк формата «01. Freefall [6:12]». \n",
    "#Напишите скрипт, который корректирует имена файлов в директории на основе текста списка песен\n",
    "import os;\n",
    "\n",
    "path = r'C:\\Users\\Zet\\Desktop\\Laba2\\Task3'\n",
    "pathfile = r'C:\\Users\\Zet\\Desktop\\Laba2\\task3_track.txt'\n",
    "os.chdir(path)\n",
    "music = os.listdir()\n",
    "print(music)\n",
    "file = open(pathfile,'r')\n",
    "for tempfile in file:\n",
    "    for tempmusic in music:\n",
    "        print(tempmusic)\n",
    "        print(tempfile)\n",
    "        if (tempfile.find(tempmusic) != -1 ):\n",
    "            pdb.set_trace()\n",
    "            #new = os.path.abspath(tempmusic)\n",
    "            tempfile = [x.rstrip() for x in tempfile]\n",
    "            tempfile = ''.join(tempfile)\n",
    "            os.rename(tempmusic,tempfile)"
   ]
  },
  {
   "cell_type": "code",
   "execution_count": 33,
   "metadata": {},
   "outputs": [
    {
     "name": "stdout",
     "output_type": "stream",
     "text": [
      "text1.txt\n"
     ]
    },
    {
     "data": {
      "text/plain": [
       "['83123,Донецк', '83123,Донецк', '83123,Донецк', '83123,Донецк']"
      ]
     },
     "execution_count": 33,
     "metadata": {},
     "output_type": "execute_result"
    }
   ],
   "source": [
    "#4\n",
    "#Напишите скрипт, который позволяет ввести с клавиатуры имя текстового файла, найти в нем с помощью регулярных выражений все\n",
    "#подстроки определенного вида, в соответствии с вариантом \n",
    "#(4 вариант):\n",
    "#найдите все строки вида «type x = value», где type – это тип (может принимать значение int, short или byte), \n",
    "#х – любое слово, value – любое число\n",
    "  \n",
    "import re\n",
    "path = r'C:\\Users\\Zet\\Desktop\\Laba2\\file'\n",
    "path = path + \"\\\\\" + input()\n",
    "file = open(path)\n",
    "text = file.read()\n",
    "regex_num = re.compile('83\\d{3},Донецк')  \n",
    "regex_num.findall(text)  "
   ]
  },
  {
   "cell_type": "code",
   "execution_count": 30,
   "metadata": {},
   "outputs": [
    {
     "name": "stdout",
     "output_type": "stream",
     "text": [
      "Введите текст: task3\n"
     ]
    },
    {
     "data": {
      "text/plain": [
       "[]"
      ]
     },
     "execution_count": 30,
     "metadata": {},
     "output_type": "execute_result"
    }
   ],
   "source": [
    "#5\n",
    "#Введите с клавиатуры текст. Программно найдите в нем и выведите отдельно все слова, которые начинаются с большого латинского\n",
    "#символа (от A до Z) и заканчиваются 2 или 4 цифрами, например «Petr93», «Johnny70», «Service2002». Используйте регулярные выражения\n",
    "import os;\n",
    "import pdb;\n",
    "input_text = input('Введите текст: ') #text = 'Petr93 Johnny70 Service2002 5P1234'\n",
    "\n",
    "def check_input(text, reg):\n",
    "    \n",
    "    for i in range(len(text)):\n",
    "        parser = re.search(reg,text[i])\n",
    "        count = 0\n",
    "        while parser!=None:\n",
    "            yield i+1,parser.regs[0][0] + count + 1, parser.group()\n",
    "            count += parser.regs[0][1]\n",
    "            text[i] = text[i][parser.regs[0][1]:]\n",
    "            parser = re.search(reg,text[i])\n",
    "\n",
    "reg = \"[A-ZА-ЯЁ][A-ZА-ЯЁa-zа-яё]+([0-9]{4}$|[0-9]{2}$)\"\n",
    "[print(output_text) for i, j, output_text in check_input(input_text.split(),reg)]"
   ]
  },
  {
   "cell_type": "code",
   "execution_count": 24,
   "metadata": {},
   "outputs": [
    {
     "ename": "SyntaxError",
     "evalue": "unexpected EOF while parsing (<ipython-input-24-1a08637b78bf>, line 44)",
     "output_type": "error",
     "traceback": [
      "\u001b[1;36m  File \u001b[1;32m\"<ipython-input-24-1a08637b78bf>\"\u001b[1;36m, line \u001b[1;32m44\u001b[0m\n\u001b[1;33m    \u001b[0m\n\u001b[1;37m    ^\u001b[0m\n\u001b[1;31mSyntaxError\u001b[0m\u001b[1;31m:\u001b[0m unexpected EOF while parsing\n"
     ]
    }
   ],
   "source": [
    "#6\n",
    "#Напишите скрипт reorganize.py, который в директории --source создает две директории: Archive и Small. В первую директорию помещаются\n",
    "#файлы с датой изменения, отличающейся от текущей даты на количество дней более параметра --days (т.е. относительно старые\n",
    "#файлы). Во вторую – все файлы размером меньше параметра --size байт. Каждая директория должна создаваться только в случае, если найден\n",
    "#хотя бы один файл, который должен быть в нее помещен.\n",
    "import sys\n",
    "import argparse\n",
    "import os\n",
    "import datetime\n",
    "import shutil\n",
    " \n",
    "def createParser ():\n",
    "    parser = argparse.ArgumentParser()\n",
    "    parser.add_argument ('-so', '--source', default=r'C:\\Users\\Zet\\Desktop\\Laba2\\Script1LB2')\n",
    "    parser.add_argument ('-d', '--days', default=1)\n",
    "    parser.add_argument ('-s', '--size', type=int, default=100)\n",
    "    return parser\n",
    "\n",
    "parser = createParser()\n",
    "namespace = parser.parse_args(sys.argv[1:])\n",
    "#print(namespace)\n",
    "#print(dir(namespace))\n",
    "#print(namespace.size)\n",
    "#print(namespace.source)\n",
    "\n",
    "os.chdir(namespace.source)\n",
    "dir1 = os.listdir()\n",
    "for temp in dir1:\n",
    "    t = os.path.getmtime(temp)\n",
    "    t = datetime.datetime.fromtimestamp(t)\n",
    "    if os.stat(temp).st_size < namespace.size:\n",
    "        print('++++++++++')\n",
    "        \n",
    "        if os.path.isdir(namespace.source+'\\Small') == False:\n",
    "            os.mkdir('Small')\n",
    "            print('!!!!!!!!!!!!')\n",
    "        shutil.move(temp,namespace.source+r'\\Small')\n",
    "    if (t - datetime.datetime.now()).days > namespace.days:\n",
    "        print('----------')\n",
    "        if os.path.isdir(namespace.source+'\\Archive') == False:\n",
    "            os.mkdir('Archive')\n",
    "            print('----------')\n",
    "        shutil.move(shutil.move(temp,namespace.source+r'\\Archive')\n",
    "\n"
   ]
  },
  {
   "cell_type": "code",
   "execution_count": null,
   "metadata": {},
   "outputs": [],
   "source": [
    "#7\n",
    "#Написать скрипт trackmix.py, который формирует обзорный трек-микс альбома (попурри из коротких фрагментов mp3-файлов в\n",
    "#пользовательской директории). Для манипуляций со звуковыми файлами можно использовать сторонние утилиты, например, FFmpeg.\n",
    "#Параметры скрипта:\n",
    "#--source (-s) – имя рабочей директории с треками, обязателен;\n",
    "#--destination (-d) – имя выходного файла, необязателен (если не указан, то имя выходного файла – mix.mp3 в директории source);\n",
    "#--count (-c) – количество файлов в \"нарезке\", необязателен (если он не указан, то перебираются все mp3-файлы в директории source);\n",
    "#--frame (-f) – количество секунд на каждый файл, необязателен (если не указан, скрипт вырезает по 10 секунд из произвольного участка каждого файла);\n",
    "#--log (-l) – необязательный ключ (если этот ключ указывается, то скрипт должен выводить на консоль лог процесса обработки файлов, как в примере);\n",
    "#--extended (-e) – необязательный ключ (если этот ключ указывается, то каждый фрагмент попурри начинается и завершается небольшим fade in/fade out).\n",
    "import sys\n",
    "import argparse\n",
    "import os\n",
    "import subprocess \n",
    "from pathlib import Path\n",
    "#import ffmpeg\n",
    "\n",
    "mus_ext = ['.mp3','.wav','.aif','.mid']\n",
    "\n",
    "def createParser ():\n",
    "    parser = argparse.ArgumentParser()\n",
    "    parser.add_argument ('--source',     '-s', required=True)\n",
    "    parser.add_argument ('--destination','-d', default='mix.mp3')\n",
    "    parser.add_argument ('--count',      '-c', default=-1, type=int)\n",
    "    parser.add_argument ('--frame',      '-f', default=10, type=int)\n",
    "    parser.add_argument ('--log',        '-l', action='store_const',const=True)\n",
    "    parser.add_argument ('--extended',   '-e', action='store_const',const=True)\n",
    "          \n",
    "    return parser\n",
    "\n",
    "def log (message):\n",
    "    if args.log:\n",
    "        print(message)\n",
    "\n",
    "def mus_file():\n",
    "    files = os.walk(args.source).__next__()[2]\n",
    "    i = args.count if args.count != -1 else len(files)\n",
    "    for f in files:\n",
    "        if (i>0) and (Path(f).suffix.lower() in mus_ext):\n",
    "            i -= 1\n",
    "            yield f\n",
    "\n",
    "def commands(i,m):\n",
    "    name = 'temp{:05}.mp3'.format(i)\n",
    "    rndm_start = '00:00:30'\n",
    "    durat = '{2:02}:{1:02}:{0:02}'.format(args.frame%60,(args.frame//60)%60,\n",
    "                                          args.frame//3600)    \n",
    "    if args.extended:\n",
    "        return ['ffmpeg', '-ss', rndm_start, '-t', durat,\n",
    "                '-i', os.path.join(args.source, m), '-af',\n",
    "                'afade=t=in:st=0:d={0:01},afade=t=out:st={1:01}:d={0:01}'.format(\n",
    "                    args.frame*0.3,args.frame*(1-0.3)),    \n",
    "                os.path.join(args.source, name)]\n",
    "    else:\n",
    "        return ['ffmpeg', '-ss', rndm_start, '-t', durat,\n",
    "                '-i', os.path.join(args.source, m), '-acodec','copy',    \n",
    "                os.path.join(args.source, name)]\n",
    "\n",
    "\n",
    "def cut (musics):\n",
    "    tempor = []\n",
    "    for i,m in enumerate(musics):\n",
    "        #print(commands(i,m))\n",
    "        stdout, stderr = subprocess.Popen(commands(i,m), stdout=subprocess.PIPE,\n",
    "                                 stderr=subprocess.STDOUT).communicate()\n",
    "        #print(stdout)\n",
    "\n",
    "        #subprocess.Popen(cmnd, stdout=subprocess.PIPE,\n",
    "         #                stderr=subprocess.STDOUT)\n",
    "        log('--- processing file {}: {}'.format(i+1,m))\n",
    "        tempor.append('temp{:05}.mp3'.format(i))\n",
    "    return tempor\n",
    "\n",
    "def glue(musics):\n",
    "    log('--- mergering the frames...')\n",
    "    with open('files.txt','w') as f:\n",
    "        f.write('\\n'.join([\"file '{}'\".format(\n",
    "                            os.path.join(args.source, m)) for m in musics]))\n",
    "        \n",
    "    cmnd = ['ffmpeg','-f','concat','-safe','0',\n",
    "            '-i', 'files.txt', '-acodec', 'copy',\n",
    "            os.path.join(args.source, args.destination)]\n",
    "    stdout, stderr = subprocess.Popen(cmnd, stdout=subprocess.PIPE,\n",
    "                       stderr=subprocess.STDOUT).communicate()\n",
    "    #print(stdout)\n",
    "    os.remove('files.txt')\n",
    "\n",
    "def delete(musics):\n",
    "    log('--- deleting temporary files...')\n",
    "    for m in musics:\n",
    "        os.remove(os.path.join(args.source, m))\n",
    "\n",
    "if __name__ == '__main__':\n",
    "    parser = createParser()\n",
    "    args = parser.parse_args()\n",
    "    if not (os.path.exists(os.path.join(args.source,args.destination)) and\n",
    "            input('File {} already exists. Override? [y/n]'.format(\n",
    "            os.path.join(args.source,args.destination))) in 'nN') :\n",
    "        try:\n",
    "            os.remove(os.path.join(args.source,args.destination))\n",
    "        except:\n",
    "            pass\n",
    "        try:\n",
    "            music2cut = [m for m in mus_file()]\n",
    "            #print(music2cut)\n",
    "            pieces = cut(music2cut)\n",
    "            glue(pieces)\n",
    "            delete(pieces)\n",
    "            log('--- done')\n",
    "        except OSError as err:\n",
    "            print('Smth get wrong.', err.args)\n"
   ]
  },
  {
   "cell_type": "code",
   "execution_count": null,
   "metadata": {},
   "outputs": [],
   "source": []
  },
  {
   "cell_type": "code",
   "execution_count": null,
   "metadata": {},
   "outputs": [],
   "source": []
  },
  {
   "cell_type": "code",
   "execution_count": null,
   "metadata": {},
   "outputs": [],
   "source": []
  },
  {
   "cell_type": "code",
   "execution_count": null,
   "metadata": {},
   "outputs": [],
   "source": []
  }
 ],
 "metadata": {
  "kernelspec": {
   "display_name": "Python 3",
   "language": "python",
   "name": "python3"
  },
  "language_info": {
   "codemirror_mode": {
    "name": "ipython",
    "version": 3
   },
   "file_extension": ".py",
   "mimetype": "text/x-python",
   "name": "python",
   "nbconvert_exporter": "python",
   "pygments_lexer": "ipython3",
   "version": "3.8.5"
  }
 },
 "nbformat": 4,
 "nbformat_minor": 4
}
